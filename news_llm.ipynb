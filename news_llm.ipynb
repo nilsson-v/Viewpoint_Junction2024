{
 "cells": [
  {
   "cell_type": "code",
   "execution_count": 1,
   "metadata": {},
   "outputs": [],
   "source": [
    "from langchain_community.chat_models import ChatOCIGenAI\n",
    "from langchain_core.prompts import ChatPromptTemplate\n",
    "from config_private import COMPARTMENT_OCID\n",
    "from prompts import CHOOSE_POLITICAL_NEWS_PROMPT, CREATE_POLIS_DISCUSSION_PROMPT\n",
    "import json"
   ]
  },
  {
   "cell_type": "code",
   "execution_count": 2,
   "metadata": {},
   "outputs": [],
   "source": [
    "llm = ChatOCIGenAI(\n",
    "    model_id=\"meta.llama-3.1-70b-instruct\",\n",
    "    service_endpoint=\"https://inference.generativeai.eu-frankfurt-1.oci.oraclecloud.com\",\n",
    "    compartment_id=COMPARTMENT_OCID,\n",
    "    model_kwargs={\"temperature\": 0.2, \"max_tokens\": 1000},\n",
    ")\n",
    "\n",
    "choose_political_news_prompt_template = ChatPromptTemplate.from_messages(\n",
    "                [(\"system\", CHOOSE_POLITICAL_NEWS_PROMPT), (\"user\", \"{text}\")]\n",
    "            )\n",
    "\n",
    "choose_political_news_chain = choose_political_news_prompt_template | llm"
   ]
  },
  {
   "cell_type": "code",
   "execution_count": 3,
   "metadata": {},
   "outputs": [],
   "source": [
    "file_path = \"./news_data.json\"\n",
    "with open(file_path, 'r') as file:\n",
    "    data_dict = json.load(file)\n",
    "    data_str = json.dumps(data_dict)#.replace('\"', \"'\")"
   ]
  },
  {
   "cell_type": "code",
   "execution_count": 4,
   "metadata": {},
   "outputs": [
    {
     "name": "stdout",
     "output_type": "stream",
     "text": [
      "103, 105, 109\n"
     ]
    }
   ],
   "source": [
    "response = choose_political_news_chain.invoke({\"text\": data_str})\n",
    "print(response.content)"
   ]
  }
 ],
 "metadata": {
  "kernelspec": {
   "display_name": ".conda",
   "language": "python",
   "name": "python3"
  },
  "language_info": {
   "codemirror_mode": {
    "name": "ipython",
    "version": 3
   },
   "file_extension": ".py",
   "mimetype": "text/x-python",
   "name": "python",
   "nbconvert_exporter": "python",
   "pygments_lexer": "ipython3",
   "version": "3.9.20"
  }
 },
 "nbformat": 4,
 "nbformat_minor": 2
}
