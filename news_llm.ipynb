{
 "cells": [
  {
   "cell_type": "code",
   "execution_count": null,
   "metadata": {},
   "outputs": [],
   "source": [
    "from langchain_groq import ChatGroq\n",
    "from langchain_core.prompts import ChatPromptTemplate\n",
    "from config_private import GROQ_API_KEY\n",
    "from prompts import CHOOSE_POLITICAL_NEWS_PROMPT, CREATE_POLIS_DISCUSSION_PROMPT\n",
    "import json\n",
    "import os"
   ]
  },
  {
   "cell_type": "code",
   "execution_count": 7,
   "metadata": {},
   "outputs": [],
   "source": [
    "os.environ[\"GROQ_API_KEY\"] = GROQ_API_KEY\n",
    "\n",
    "llm = ChatGroq(\n",
    "    model=\"llama-3.1-70b-versatile\",\n",
    "    temperature=0.2,\n",
    "    max_tokens=None,\n",
    "    timeout=None,\n",
    "    max_retries=2,\n",
    ")\n",
    "\n",
    "choose_political_news_prompt_template = ChatPromptTemplate.from_messages(\n",
    "                [(\"system\", CHOOSE_POLITICAL_NEWS_PROMPT), (\"user\", \"{text}\")]\n",
    "            )\n",
    "\n",
    "choose_political_news_chain = choose_political_news_prompt_template | llm"
   ]
  },
  {
   "cell_type": "code",
   "execution_count": 8,
   "metadata": {},
   "outputs": [],
   "source": [
    "file_path = \"./news_data.json\"\n",
    "with open(file_path, 'r') as file:\n",
    "    data_dict = json.load(file)\n",
    "    data_str = json.dumps(data_dict)"
   ]
  },
  {
   "cell_type": "code",
   "execution_count": 9,
   "metadata": {},
   "outputs": [
    {
     "name": "stdout",
     "output_type": "stream",
     "text": [
      "103, 105, 109\n"
     ]
    }
   ],
   "source": [
    "response = choose_political_news_chain.invoke({\"text\": data_str})\n",
    "print(response.content)"
   ]
  },
  {
   "cell_type": "code",
   "execution_count": 10,
   "metadata": {},
   "outputs": [],
   "source": [
    "create_polis_discussion_prompt_template = ChatPromptTemplate.from_messages(\n",
    "                [(\"system\", CREATE_POLIS_DISCUSSION_PROMPT), (\"user\", \"{text}\")]\n",
    "            )\n",
    "\n",
    "create_polis_discussion_chain = create_polis_discussion_prompt_template | llm"
   ]
  },
  {
   "cell_type": "code",
   "execution_count": 11,
   "metadata": {},
   "outputs": [],
   "source": [
    "polis_discussions = []\n",
    "\n",
    "for i in response.content.split(', '):\n",
    "    polis_discussions.append(create_polis_discussion_chain.invoke({\"text\": data_dict[i]}))"
   ]
  },
  {
   "cell_type": "code",
   "execution_count": 12,
   "metadata": {},
   "outputs": [
    {
     "name": "stdout",
     "output_type": "stream",
     "text": [
      "Headline: Sisäministerin tehtävän jakautuminen ja vaikutukset hallitukseen\n",
      "\n",
      "Alustavat lausumat: Ministerin tehtävien jakautuminen voi heikentää hallituksen toimintaa | Tytärin nopea toipuminen on positiivinen yllätys, joka mahdollistaa ministerin paluun | Sisäministerin tehtävän hoitaminen liikenne- ja viestintäministerin tehtävien ohella voi olla haastavaa\n",
      "\n",
      "\n",
      "\n",
      "Headline: Muutokset puolueiden kannatusmittauksessa\n",
      "\n",
      "Alustavat lausumat: SDP:n kasvava kannatus osoittaa, että oppositiopuolueet ovat yhä suositumpia | Kokoomuksen kannatuksen lasku on merkki siitä, että hallitus ei ole toiminut odotusten mukaisesti | PS:n kannatuksen lasku on merkki siitä, että puolue tarvitsee uudistumista.\n",
      "\n",
      "\n",
      "\n",
      "Headline: Unkarin lapsipornon estämismalli ja Suomen kanta\n",
      "\n",
      "Initial statements: Unkarin malli on tarpeellinen askel lapsipornon torjumiseksi | Tuntemattoman sisällön automaattinen tunnistaminen ja torjuminen uhkaa sananvapautta | Perustuslakivaliokunnan kanta on oikeutettu, koska Unkarin malli on liian laaja-alainen |\n",
      "\n",
      "\n",
      "\n"
     ]
    }
   ],
   "source": [
    "for topic in polis_discussions:\n",
    "    print(topic.content)\n",
    "    print(\"\\n\\n\")"
   ]
  }
 ],
 "metadata": {
  "kernelspec": {
   "display_name": ".conda",
   "language": "python",
   "name": "python3"
  },
  "language_info": {
   "codemirror_mode": {
    "name": "ipython",
    "version": 3
   },
   "file_extension": ".py",
   "mimetype": "text/x-python",
   "name": "python",
   "nbconvert_exporter": "python",
   "pygments_lexer": "ipython3",
   "version": "3.9.20"
  }
 },
 "nbformat": 4,
 "nbformat_minor": 2
}
