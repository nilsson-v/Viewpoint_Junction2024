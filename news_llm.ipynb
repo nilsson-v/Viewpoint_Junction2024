{
 "cells": [
  {
   "cell_type": "code",
   "execution_count": null,
   "metadata": {},
   "outputs": [],
   "source": [
    "from langchain_community.chat_models import ChatOCIGenAI\n",
    "from langchain_core.prompts import ChatPromptTemplate\n",
    "from config_private import COMPARTMENT_OCID\n",
    "from prompts import CHOOSE_POLITICAL_NEWS_PROMPT, CREATE_POLIS_DISCUSSION_PROMPT\n",
    "import json"
   ]
  },
  {
   "cell_type": "code",
   "execution_count": 9,
   "metadata": {},
   "outputs": [],
   "source": [
    "llm = ChatOCIGenAI(\n",
    "    model_id=\"meta.llama-3.1-70b-instruct\",\n",
    "    service_endpoint=\"https://inference.generativeai.eu-frankfurt-1.oci.oraclecloud.com\",\n",
    "    compartment_id=COMPARTMENT_OCID,\n",
    "    model_kwargs={\"temperature\": 0.2, \"max_tokens\": 1000},\n",
    ")\n",
    "\n",
    "choose_political_news_prompt_template = ChatPromptTemplate.from_messages(\n",
    "                [(\"system\", CHOOSE_POLITICAL_NEWS_PROMPT), (\"user\", \"{text}\")]\n",
    "            )\n",
    "\n",
    "choose_political_news_chain = choose_political_news_prompt_template | llm"
   ]
  },
  {
   "cell_type": "code",
   "execution_count": 3,
   "metadata": {},
   "outputs": [],
   "source": [
    "file_path = \"./news_data.json\"\n",
    "with open(file_path, 'r') as file:\n",
    "    data_dict = json.load(file)\n",
    "    data_str = json.dumps(data_dict)"
   ]
  },
  {
   "cell_type": "code",
   "execution_count": 4,
   "metadata": {},
   "outputs": [
    {
     "name": "stdout",
     "output_type": "stream",
     "text": [
      "103, 105, 109\n"
     ]
    }
   ],
   "source": [
    "response = choose_political_news_chain.invoke({\"text\": data_str})\n",
    "print(response.content)"
   ]
  },
  {
   "cell_type": "code",
   "execution_count": 5,
   "metadata": {},
   "outputs": [],
   "source": [
    "create_polis_discussion_prompt_template = ChatPromptTemplate.from_messages(\n",
    "                [(\"system\", CREATE_POLIS_DISCUSSION_PROMPT), (\"user\", \"{text}\")]\n",
    "            )\n",
    "\n",
    "create_polis_discussion_chain = create_polis_discussion_prompt_template | llm"
   ]
  },
  {
   "cell_type": "code",
   "execution_count": 6,
   "metadata": {},
   "outputs": [
    {
     "name": "stdout",
     "output_type": "stream",
     "text": [
      "[AIMessage(content='Headline: Sisäministerin tehtävän jakautuminen ja poliittinen jatkuvuus\\n\\nInitial statements: Ministerin henkilökohtaiset syyt eivät saa vaikuttaa hallituksen toimintaan | Tyttären sairastuminen oli hyvä syy väliaikaiselle ministerinvaihdolle | Liikenne- ja viestintäministeri Lulu Ranne pystyi hoitamaan sisäministerin tehtävää hyvin väliaikaisesti', additional_kwargs={'finish_reason': 'stop', 'time_created': '2024-11-08 18:48:27.729000+00:00'}, response_metadata={'model_id': 'meta.llama-3.1-70b-instruct', 'model_version': '1.0.0', 'request_id': '87470E294F7847838E0D2A728116D15D/8F840CB53B38A2F937DFE57812F691AD/6F4C556CE65601FBB43E4F11EE85C284', 'content-length': '441', 'finish_reason': 'stop', 'time_created': '2024-11-08 18:48:27.729000+00:00'}, id='run-ebee398d-0970-4084-b1e1-959d35e721e5-0'), AIMessage(content='Headline: Puolueiden kannatusmittaus: SDP:n nousu ja hallituspuolueiden lasku\\n\\nInitial statements: SDP:n suosio johtuu heidän onnistuneista vaalilupauksistaan | Kokoomuksen kannatuksen lasku on seurausta heidän epäsuositusta politiikastaan | Hallituspuolueiden kannatuksen lasku on merkki siitä, että suomalaiset ovat tyytymättömiä nykyiseen hallitukseen | PS:n kannatuksen lasku on seurausta heidän sisäisistä ristiriidoistaan |', additional_kwargs={'finish_reason': 'stop', 'time_created': '2024-11-08 18:48:30.937000+00:00'}, response_metadata={'model_id': 'meta.llama-3.1-70b-instruct', 'model_version': '1.0.0', 'request_id': 'BFA9CD6392DA4E0385DB1A6BEF99B980/949D6D9ACCB2F6777B22FD33316BC671/484CD944B9426ED7293328D1F94486B3', 'content-length': '463', 'finish_reason': 'stop', 'time_created': '2024-11-08 18:48:30.937000+00:00'}, id='run-94f2f57a-0743-4551-b777-3f5b12be6f09-0'), AIMessage(content='Headline: Unkarin lapsipornon estämismalli ja Suomen kanta\\n\\nInitial statements: Unkarin esittämä malli on tarpeellinen askel lapsipornon torjumiseksi | Tuntemattoman sisällön tunnistamismääräys loukkaa yksityisyyttä ja sananvapautta | Suomen tulisi tukea Unkarin esitystä ja tehostaa lapsipornon torjuntaa | Perustuslakivaliokunnan kanta on liian varovainen ja jättää Suomen alttiina lapsipornon leviämiselle', additional_kwargs={'finish_reason': 'stop', 'time_created': '2024-11-08 18:48:33.936000+00:00'}, response_metadata={'model_id': 'meta.llama-3.1-70b-instruct', 'model_version': '1.0.0', 'request_id': 'DCA8E4ED0C534262BE23F2CB8A0B22F3/64F49071F01A2009733C73F5E331BFA3/FAFAC2472E0BC489BA81A47F98BC340D', 'content-length': '470', 'finish_reason': 'stop', 'time_created': '2024-11-08 18:48:33.936000+00:00'}, id='run-9489d99b-209f-4723-be43-b93b0ae9a386-0')]\n"
     ]
    }
   ],
   "source": [
    "polis_discussions = []\n",
    "\n",
    "for i in response.content.split(', '):\n",
    "    polis_discussions.append(create_polis_discussion_chain.invoke({\"text\": data_dict[i]}))\n",
    "\n",
    "print(polis_discussions)"
   ]
  },
  {
   "cell_type": "code",
   "execution_count": 7,
   "metadata": {},
   "outputs": [
    {
     "name": "stdout",
     "output_type": "stream",
     "text": [
      "Headline: Sisäministerin tehtävän jakautuminen ja poliittinen jatkuvuus\n",
      "\n",
      "Initial statements: Ministerin henkilökohtaiset syyt eivät saa vaikuttaa hallituksen toimintaan | Tyttären sairastuminen oli hyvä syy väliaikaiselle ministerinvaihdolle | Liikenne- ja viestintäministeri Lulu Ranne pystyi hoitamaan sisäministerin tehtävää hyvin väliaikaisesti\n",
      "\n",
      "\n",
      "\n",
      "Headline: Puolueiden kannatusmittaus: SDP:n nousu ja hallituspuolueiden lasku\n",
      "\n",
      "Initial statements: SDP:n suosio johtuu heidän onnistuneista vaalilupauksistaan | Kokoomuksen kannatuksen lasku on seurausta heidän epäsuositusta politiikastaan | Hallituspuolueiden kannatuksen lasku on merkki siitä, että suomalaiset ovat tyytymättömiä nykyiseen hallitukseen | PS:n kannatuksen lasku on seurausta heidän sisäisistä ristiriidoistaan |\n",
      "\n",
      "\n",
      "\n",
      "Headline: Unkarin lapsipornon estämismalli ja Suomen kanta\n",
      "\n",
      "Initial statements: Unkarin esittämä malli on tarpeellinen askel lapsipornon torjumiseksi | Tuntemattoman sisällön tunnistamismääräys loukkaa yksityisyyttä ja sananvapautta | Suomen tulisi tukea Unkarin esitystä ja tehostaa lapsipornon torjuntaa | Perustuslakivaliokunnan kanta on liian varovainen ja jättää Suomen alttiina lapsipornon leviämiselle\n",
      "\n",
      "\n",
      "\n"
     ]
    }
   ],
   "source": [
    "for topic in polis_discussions:\n",
    "    print(topic.content)\n",
    "    print(\"\\n\\n\")"
   ]
  }
 ],
 "metadata": {
  "kernelspec": {
   "display_name": ".conda",
   "language": "python",
   "name": "python3"
  },
  "language_info": {
   "codemirror_mode": {
    "name": "ipython",
    "version": 3
   },
   "file_extension": ".py",
   "mimetype": "text/x-python",
   "name": "python",
   "nbconvert_exporter": "python",
   "pygments_lexer": "ipython3",
   "version": "3.9.20"
  }
 },
 "nbformat": 4,
 "nbformat_minor": 2
}
